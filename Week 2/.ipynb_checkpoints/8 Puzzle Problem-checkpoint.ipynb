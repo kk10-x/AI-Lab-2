{
 "cells": [
  {
   "cell_type": "code",
   "execution_count": 6,
   "metadata": {},
   "outputs": [],
   "source": [
    "# Depth first search in search of target - Using Recursion\n",
    "\n",
    "def dfs(src,target,limit,visited_states):\n",
    "    # Base case if Target found\n",
    "    if src == target:\n",
    "        return True\n",
    "    # Base case if limit exceeded\n",
    "    if limit <= 0:\n",
    "        return False\n",
    "    # Add source to visited_states\n",
    "    visited_states.append(src)\n",
    "    # Find possible slides up, down, left right to current empty site\n",
    "    ### Jump to possible_moves function\n",
    "    moves = possible_moves(src,visited_states)   \n",
    "    # For all possible moves gotten from the possible moves function\n",
    "    # Check if src equals to new targets\n",
    "    # Return True if target found in given depth limit\n",
    "    for move in moves:\n",
    "        if dfs(move, target, limit-1, visited_states):\n",
    "            return True\n",
    "    return False"
   ]
  },
  {
   "cell_type": "code",
   "execution_count": 7,
   "metadata": {},
   "outputs": [],
   "source": [
    "# Define the possible moves and give boundaries\n",
    "def possible_moves(state,visited_states): \n",
    "    # Find index of empty spot and assign it to b\n",
    "    b = state.index(-1)  \n",
    "    #'d' for down, 'u' for up, 'r' for right, 'l' for left - directions array\n",
    "    d = []\n",
    "    #Add all possible direction into directions array - Hint using if statements\n",
    "    if 9 > b - 3 >= 0: \n",
    "        d += 'u'\n",
    "    if 9 > b + 3 >= 0:\n",
    "        d += 'd'\n",
    "    if b not in [2,5,8]: \n",
    "        d += 'r'\n",
    "    if b not in [0,3,6]: \n",
    "        d += 'l'\n",
    "    # If direction is possible then add state to move\n",
    "    pos_moves = []\n",
    "    # for all possible directions find the state if that move is played\n",
    "    ### Jump to gen function to generate all possible moves in the given directions\n",
    "    for move in d:\n",
    "        pos_moves.append(gen(state,move,b))\n",
    "    # return all possible moves only if the move not in visited_states\n",
    "    return [move for move in pos_moves if move not in visited_states]"
   ]
  },
  {
   "cell_type": "code",
   "execution_count": 8,
   "metadata": {},
   "outputs": [],
   "source": [
    "# generate a set of temporary moves\n",
    "def gen(state, m, b): # m(move) is direction to slide, b(blank) is index of empty spot\n",
    "    # create a copy of current state to test the move\n",
    "    temp = state.copy()                              \n",
    "    # if move is to slide empty spot to the left and so on\n",
    "    if m == 'u':\n",
    "        temp[b-3], temp[b] = temp[b], temp[b-3]\n",
    "    if m == 'd':\n",
    "        temp[b+3], temp[b] = temp[b], temp[b+3]\n",
    "    if m == 'r':\n",
    "        temp[b+1], temp[b] = temp[b], temp[b+1]\n",
    "    if m == 'l':\n",
    "        temp[b-1], temp[b] = temp[b], temp[b-1]\n",
    "    # return new state with tested move to later check if \"src == target\"\n",
    "    return temp"
   ]
  },
  {
   "cell_type": "code",
   "execution_count": 9,
   "metadata": {},
   "outputs": [],
   "source": [
    "# function to call the dfs\n",
    "def iddfs(src,target,depth):\n",
    "    for i in range(depth):\n",
    "        visited_states = []\n",
    "        if dfs(src,target,i+1,visited_states):\n",
    "            return True\n",
    "    return False"
   ]
  },
  {
   "cell_type": "code",
   "execution_count": 10,
   "metadata": {},
   "outputs": [
    {
     "data": {
      "text/plain": [
       "False"
      ]
     },
     "execution_count": 10,
     "metadata": {},
     "output_type": "execute_result"
    }
   ],
   "source": [
    "#Test 1\n",
    "src = [1,2,3,-1,4,5,6,7,8]\n",
    "target = [1,2,3,4,5,-1,6,7,8]         \n",
    "\n",
    "depth = 1\n",
    "iddfs(src, target, depth)"
   ]
  },
  {
   "cell_type": "code",
   "execution_count": 11,
   "metadata": {},
   "outputs": [
    {
     "data": {
      "text/plain": [
       "True"
      ]
     },
     "execution_count": 11,
     "metadata": {},
     "output_type": "execute_result"
    }
   ],
   "source": [
    "# Test 2\n",
    "src = [1,2,3,-1,4,5,6,7,8] \n",
    "target=[1,2,3,6,4,5,-1,7,8]\n",
    "\n",
    "depth = 1\n",
    "iddfs(src, target, depth) # Minimum depth is 1"
   ]
  },
  {
   "cell_type": "code",
   "execution_count": 12,
   "metadata": {},
   "outputs": [],
   "source": [
    "# Test 3\n",
    "# Try to create a source and target that reaches large minimum required depth \n",
    "src = [3,5,2,8,7,6,4,1,-1]\n",
    "target = [-1,3,7,8,1,5,4,6,2]\n",
    "\n",
    "#iddfs(src, target, depth) # I have reached 25 in the next cell, Lets see if u can beat that\n"
   ]
  },
  {
   "cell_type": "code",
   "execution_count": 15,
   "metadata": {},
   "outputs": [
    {
     "name": "stdout",
     "output_type": "stream",
     "text": [
      "1 False\n",
      "2 False\n",
      "3 False\n",
      "4 False\n",
      "5 False\n",
      "6 False\n",
      "7 False\n",
      "8 False\n",
      "9 False\n",
      "10 False\n",
      "11 False\n",
      "12 False\n",
      "13 False\n",
      "14 False\n",
      "15 False\n",
      "16 False\n",
      "17 False\n",
      "18 False\n",
      "19 False\n",
      "20 False\n",
      "21 False\n",
      "22 False\n",
      "23 False\n",
      "24 False\n",
      "25 True\n"
     ]
    }
   ],
   "source": [
    "# Maximum Change \n",
    "# An Experiemnt I did to try and find the maximum required depth assuming \n",
    "# that this was the biggest possible change from src to target\n",
    "\n",
    "## Uncomment to try\n",
    "src = [1, 2, 3, 4, 5, 6, 7, 8, -1]\n",
    "target = [-1, 1, 2, 3, 4, 5, 6, 7, 8]\n",
    "ans=0\n",
    "\n",
    "for i in range(1, 100):\n",
    "    val = iddfs(src,target,i)\n",
    "    print(i, val)\n",
    "    if val == True:\n",
    "        ans=i\n",
    "        break"
   ]
  },
  {
   "cell_type": "code",
   "execution_count": 16,
   "metadata": {},
   "outputs": [
    {
     "name": "stdout",
     "output_type": "stream",
     "text": [
      "Minimum number of steps required to solve this problem is:  25\n"
     ]
    }
   ],
   "source": [
    "print(\"Minimum number of steps required to solve this problem is: \",ans)"
   ]
  },
  {
   "cell_type": "code",
   "execution_count": null,
   "metadata": {},
   "outputs": [],
   "source": []
  }
 ],
 "metadata": {
  "kernelspec": {
   "display_name": "Python 3",
   "language": "python",
   "name": "python3"
  },
  "language_info": {
   "codemirror_mode": {
    "name": "ipython",
    "version": 3
   },
   "file_extension": ".py",
   "mimetype": "text/x-python",
   "name": "python",
   "nbconvert_exporter": "python",
   "pygments_lexer": "ipython3",
   "version": "3.8.5"
  }
 },
 "nbformat": 4,
 "nbformat_minor": 4
}
