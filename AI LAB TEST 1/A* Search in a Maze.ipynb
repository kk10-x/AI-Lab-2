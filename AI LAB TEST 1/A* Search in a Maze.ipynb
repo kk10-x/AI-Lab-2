{
 "cells": [
  {
   "cell_type": "markdown",
   "metadata": {},
   "source": [
    "## A* Search in in a given maze\n"
   ]
  },
  {
   "cell_type": "code",
   "execution_count": 9,
   "metadata": {},
   "outputs": [],
   "source": [
    "def printSolution(sol): #print the maze\n",
    "    for i in sol: \n",
    "        for j in i: \n",
    "            print(str(j) + \" \", end =\"\") \n",
    "        print(\"\") \n"
   ]
  },
  {
   "cell_type": "code",
   "execution_count": 10,
   "metadata": {},
   "outputs": [],
   "source": [
    "def isSafe(maze, x, y, visited): #check if cell is visited or not\n",
    "    if x >= 0 and x < len(maze) and y >= 0 and y < len(maze[0]) and maze[x][y] == 1 and visited[x][y] != 1: \n",
    "        return True\n",
    "    return False"
   ]
  },
  {
   "cell_type": "code",
   "execution_count": 11,
   "metadata": {},
   "outputs": [],
   "source": [
    "def solveMaze(maze, goal): #check for sol\n",
    "    sol = [ [ 0 for j in range(len(maze[0])) ] for i in range(len(maze)) ] \n",
    "    if solveMazeUtil(maze, 0, 0, sol, goal) == False: \n",
    "        print(\"Solution doesn't exist\"); \n",
    "        return False\n",
    "    printSolution(sol) \n",
    "    return True"
   ]
  },
  {
   "cell_type": "code",
   "execution_count": 12,
   "metadata": {},
   "outputs": [],
   "source": [
    "def euclid(loc, goal): #calc euclid dist\n",
    "    return ((loc[0]-goal[0])**2 + (loc[1]-goal[1])**2)**0.5"
   ]
  },
  {
   "cell_type": "code",
   "execution_count": 13,
   "metadata": {},
   "outputs": [],
   "source": [
    "def solveMazeCheck(maze, x, y, sol, goal): #check if a cell is blocked or not and find optimal path\n",
    "    if x == goal[0] and y == goal[1] and maze[x][y]== 1: \n",
    "        sol[x][y] = 1\n",
    "        return True\n",
    "    if isSafe(maze, x, y, sol):\n",
    "        sol[x][y] = 1\n",
    "        temp = sol.copy()\n",
    "        directions = [(x+1,y),(x-1,y),(x,y+1),(x,y-1),(x+1,y-1),(x-1,y-1),(x+1,y+1),(x-1,y+1)]   \n",
    "        directions = [d for d in directions if isSafe(maze, d[0], d[1], sol)]\n",
    "        costs = [euclid(loc,goal) for loc in directions]\n",
    "        directions = [d for _, d in sorted(zip(costs,directions))]\n",
    "        for i in range(len(costs)):\n",
    "            if isSafe(maze, directions[i][0], directions[i][1], sol):\n",
    "                if solveMazeCheck(maze, directions[i][0], directions[i][1], sol, goal):\n",
    "                    return True\n",
    "        sol[x][y] = 0\n",
    "        return False"
   ]
  },
  {
   "cell_type": "markdown",
   "metadata": {},
   "source": [
    "#### For given example:"
   ]
  },
  {
   "cell_type": "code",
   "execution_count": 14,
   "metadata": {},
   "outputs": [],
   "source": [
    "maze = [ [1, 0, 1, 1, 1], \n",
    "        [0, 1, 1, 1, 1], \n",
    "        [1, 1, 1, 1, 0], \n",
    "        [1, 1, 0, 0, 1],\n",
    "        [1, 0, 1, 1, 1] ]"
   ]
  },
  {
   "cell_type": "code",
   "execution_count": 15,
   "metadata": {},
   "outputs": [
    {
     "name": "stdout",
     "output_type": "stream",
     "text": [
      "1 0 0 0 0 \n",
      "0 1 0 0 0 \n",
      "0 0 1 0 0 \n",
      "0 1 0 0 0 \n",
      "0 0 1 0 0 \n"
     ]
    },
    {
     "data": {
      "text/plain": [
       "True"
      ]
     },
     "execution_count": 15,
     "metadata": {},
     "output_type": "execute_result"
    }
   ],
   "source": [
    "solveMaze(maze, (4,2)) #enter the destination here (source is (0,0))\n"
   ]
  },
  {
   "cell_type": "markdown",
   "metadata": {},
   "source": [
    "### Path taken is the connection of 1's from source(0,0) to destination(4,2)"
   ]
  },
  {
   "cell_type": "code",
   "execution_count": null,
   "metadata": {},
   "outputs": [],
   "source": []
  }
 ],
 "metadata": {
  "kernelspec": {
   "display_name": "Python 3",
   "language": "python",
   "name": "python3"
  },
  "language_info": {
   "codemirror_mode": {
    "name": "ipython",
    "version": 3
   },
   "file_extension": ".py",
   "mimetype": "text/x-python",
   "name": "python",
   "nbconvert_exporter": "python",
   "pygments_lexer": "ipython3",
   "version": "3.8.5"
  }
 },
 "nbformat": 4,
 "nbformat_minor": 4
}
